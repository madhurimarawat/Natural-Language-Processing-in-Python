{
  "nbformat": 4,
  "nbformat_minor": 0,
  "metadata": {
    "colab": {
      "provenance": []
    },
    "kernelspec": {
      "name": "python3",
      "display_name": "Python 3"
    },
    "language_info": {
      "name": "python"
    }
  },
  "cells": [
    {
      "cell_type": "markdown",
      "source": [
        "# Experiment 2\n",
        "#  Find the Word Frequency."
      ],
      "metadata": {
        "id": "G03Z9ppZ0guF"
      }
    },
    {
      "cell_type": "code",
      "source": [
        "# Find frequency of each word in a string in python\n",
        "# Using Dictionary\n",
        "def count_word(elements):\n",
        "\n",
        "  # Checking if each word has '.' in the end. If so then ignoring '.'\n",
        "  if elements[-1] == '.':\n",
        "    elements = elements[0 : len(elements)-1]\n",
        "\n",
        "  # If there exists key as element then simply increasing its value\n",
        "  if elements in dictionary:\n",
        "    dictionary[elements] += 1\n",
        "\n",
        "  # If the dictionary does not have the key as elements then creating a key element and assign value of 1 to it\n",
        "  else:\n",
        "    dictionary.update({elements: 1})\n",
        "\n",
        "# Driver input to check the program\n",
        "Sentence = \"Apple Mango Orange Mango Apple papaya banana Mango Orange\"\n",
        "\n",
        "# Creating a dictionary\n",
        "dictionary = {}\n",
        "\n",
        "# Split the word of string\n",
        "lst = Sentence.split()\n",
        "\n",
        "# Taking each word from lst and pass it to the method count\n",
        "for i in lst:\n",
        "  count_word(i)\n",
        "\n",
        "# Print all keys and corresponding values\n",
        "for k in dictionary:\n",
        "  print(\"Frequency of\",k,end = \" \")\n",
        "  print(\":\",end = \" \")\n",
        "  print(dictionary[k],end=' ')\n",
        "  print()"
      ],
      "metadata": {
        "colab": {
          "base_uri": "https://localhost:8080/"
        },
        "id": "O5LVQWMW0mLR",
        "outputId": "f748cc77-871e-4892-fe63-cf9cfd32bcfe"
      },
      "execution_count": 1,
      "outputs": [
        {
          "output_type": "stream",
          "name": "stdout",
          "text": [
            "Frequency of Apple : 2 \n",
            "Frequency of Mango : 3 \n",
            "Frequency of Orange : 2 \n",
            "Frequency of papaya : 1 \n",
            "Frequency of banana : 1 \n"
          ]
        }
      ]
    },
    {
      "cell_type": "code",
      "source": [
        "# Using the count function to calculate frequency\n",
        "\n",
        "# Directly trying for user input\n",
        "sen = input(\"Enter String: \")\n",
        "# Splitting words\n",
        "lst = sen.split()\n",
        "\n",
        "# Declaring dictionary\n",
        "freq = {}\n",
        "\n",
        "# Get the unique elements in the list\n",
        "ele = set(lst)\n",
        "\n",
        "# Loop over the unique elements\n",
        "for x in ele:\n",
        "  # Use the count function to find the frequency of each element and store it in the dictionary\n",
        "  freq[x] = lst.count(x)\n",
        "\n",
        "# Print the dictionary\n",
        "# Print all keys and corresponding values\n",
        "for k in freq:\n",
        "  print(\"Frequency of\",k,end = \" \")\n",
        "  print(\":\",end = \" \")\n",
        "  print(freq[k],end=' ')\n",
        "  print()"
      ],
      "metadata": {
        "colab": {
          "base_uri": "https://localhost:8080/"
        },
        "id": "KALzdgDr0yiv",
        "outputId": "733d9a4c-1232-4a0c-cd36-8e5623f83038"
      },
      "execution_count": 6,
      "outputs": [
        {
          "output_type": "stream",
          "name": "stdout",
          "text": [
            "Enter String: Apple Mango Orange Mango Apple papaya banana Mango Orange\n",
            "Frequency of Mango : 3 \n",
            "Frequency of Apple : 2 \n",
            "Frequency of papaya : 1 \n",
            "Frequency of Orange : 2 \n",
            "Frequency of banana : 1 \n"
          ]
        }
      ]
    },
    {
      "cell_type": "code",
      "source": [],
      "metadata": {
        "id": "qMN4V9EBAgsT"
      },
      "execution_count": null,
      "outputs": []
    }
  ]
}