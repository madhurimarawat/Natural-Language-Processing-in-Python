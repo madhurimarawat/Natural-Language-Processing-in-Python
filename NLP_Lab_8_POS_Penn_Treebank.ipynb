{
  "nbformat": 4,
  "nbformat_minor": 0,
  "metadata": {
    "colab": {
      "provenance": []
    },
    "kernelspec": {
      "name": "python3",
      "display_name": "Python 3"
    },
    "language_info": {
      "name": "python"
    }
  },
  "cells": [
    {
      "cell_type": "markdown",
      "source": [
        "## Experiment 8\n",
        "## Identify parts-of Speech using Penn Treebank tag set."
      ],
      "metadata": {
        "id": "-QhcVYJlOZ2T"
      }
    },
    {
      "cell_type": "markdown",
      "source": [
        "**Penn Treebank and POS Tagging Overview:**\n",
        "\n",
        "- *Penn Treebank:* A widely used corpus of English text annotated with syntactic and grammatical information.\n",
        "- *POS Tagging:* Part-of-Speech tagging assigns grammatical categories (e.g., noun, verb) to words in a text.\n",
        "- *Importance:* Essential for natural language processing tasks, aiding in language understanding and analysis.\n",
        "- *Applications:* Machine translation, information retrieval, and sentiment analysis benefit from accurate POS tagging.\n",
        "- *Challenges:* Ambiguity and context-dependent word meanings pose challenges in accurate tagging.\n",
        "\n",
        "\n",
        "**Part-of-Speech (POS) Tags and Detailed Description:**\n",
        "\n",
        "- **CC:** Coordinating conjunction\n",
        "  - *Example:* and, but, or\n",
        "\n",
        "- **CD:** Cardinal number\n",
        "  - *Example:* 1, 2, three\n",
        "\n",
        "- **DT:** Determiner\n",
        "  - *Example:* the, a, an\n",
        "\n",
        "- **EX:** Existential there\n",
        "  - *Example:* There is, there are\n",
        "\n",
        "- **FW:** Foreign word\n",
        "  - *Example:* bon appétit, pièce de résistance\n",
        "\n",
        "- **IN:** Preposition or subordinating conjunction\n",
        "  - *Example:* in, on, under, while\n",
        "\n",
        "- **JJ:** Adjective\n",
        "  - *Example:* happy, tall, blue\n",
        "\n",
        "- **JJR:** Adjective, comparative\n",
        "  - *Example:* happier, taller, bluer\n",
        "\n",
        "- **JJS:** Adjective, superlative\n",
        "  - *Example:* happiest, tallest, bluest\n",
        "\n",
        "- **LS:** List item marker\n",
        "  - *Example:* 1., 2., (a), (b)\n",
        "\n",
        "- **MD:** Modal\n",
        "  - *Example:* can, could, will\n",
        "\n",
        "- **NN:** Noun, singular or mass\n",
        "  - *Example:* cat, love, happiness\n",
        "\n",
        "- **NNS:** Noun, plural\n",
        "  - *Example:* cats, loves, happinesses\n",
        "\n",
        "- **NNP:** Proper noun, singular\n",
        "  - *Example:* John, London, December\n",
        "\n",
        "- **NNPS:** Proper noun, plural\n",
        "  - *Example:* Johns, Londons, Decembers\n",
        "\n",
        "- **PDT:** Predeterminer\n",
        "  - *Example:* both, half, all\n",
        "\n",
        "- **POS:** Possessive ending\n",
        "  - *Example:* 's, '\n",
        "\n",
        "- **PRP:** Personal pronoun\n",
        "  - *Example:* I, you, he, she\n",
        "\n",
        "- **PRP\\$:** Possessive pronoun\n",
        "  - *Example:* my, your, his, her\n",
        "\n",
        "- **RB:** Adverb\n",
        "  - *Example:* quickly, softly, very\n",
        "\n",
        "- **RBR:** Adverb, comparative\n",
        "  - *Example:* faster, earlier, more\n",
        "\n",
        "- **RBS:** Adverb, superlative\n",
        "  - *Example:* fastest, earliest, most\n",
        "\n",
        "- **RP:** Particle\n",
        "  - *Example:* up, down, off\n",
        "\n",
        "- **SYM:** Symbol\n",
        "  - *Example:* $, %, +\n",
        "\n",
        "- **TO:** to\n",
        "  - *Example:* to go, to dance, to eat\n",
        "\n",
        "- **UH:** Interjection\n",
        "  - *Example:* oh, wow, oops\n",
        "\n",
        "- **VB:** Verb, base form\n",
        "  - *Example:* run, jump, eat\n",
        "\n",
        "- **VBD:** Verb, past tense\n",
        "  - *Example:* ran, jumped, ate\n",
        "\n",
        "- **VBG:** Verb, gerund or present participle\n",
        "  - *Example:* running, jumping, eating\n",
        "\n",
        "- **VBN:** Verb, past participle\n",
        "  - *Example:* run, jumped, eaten\n",
        "\n",
        "- **VBP:** Verb, non-3rd person singular present\n",
        "  - *Example:* am, are, have\n",
        "\n",
        "- **VBZ:** Verb, 3rd person singular present\n",
        "  - *Example:* is, has, does\n",
        "\n",
        "- **WDT:** Wh-determiner\n",
        "  - *Example:* which, whose, whatever\n",
        "\n",
        "- **WP:** Wh-pronoun\n",
        "  - *Example:* who, what, whom\n",
        "\n",
        "- **WP\\$:** Possessive wh-pronoun\n",
        "  - *Example:* whose, whosever\n",
        "\n",
        "- **WRB:** Wh-adverb\n",
        "  - *Example:* when, where, why\n",
        "\n",
        "\n",
        "These are common POS tags used in the Penn Treebank POS tagging scheme, along with detailed descriptions and examples of words falling under each category. Each tag represents a specific grammatical category or syntactic function of a word in a sentence."
      ],
      "metadata": {
        "id": "wK5o4CVPPNLw"
      }
    },
    {
      "cell_type": "markdown",
      "source": [
        "## Explanation of Code\n",
        "\n",
        "1. **Import Libraries:**\n",
        "   - `import nltk`: Import the Natural Language Toolkit (NLTK).\n",
        "   - `from nltk.tokenize import word_tokenize`: Import the word_tokenize function for tokenization.\n",
        "\n",
        "2. **Download NLTK Data:**\n",
        "   - `nltk.download('punkt')`: Download NLTK data for tokenization.\n",
        "   - `nltk.download('averaged_perceptron_tagger')`: Download NLTK data for POS tagging.\n",
        "\n",
        "3. **Function Definition:**\n",
        "   - `identify_parts_of_speech(text)`: Define a function that takes a text input, tokenizes it into words, and tags the parts of speech.\n",
        "\n",
        "4. **Tokenization:**\n",
        "   - `words = word_tokenize(text)`: Tokenize the input text into words.\n",
        "\n",
        "5. **POS Tagging:**\n",
        "   - `pos_tags = nltk.pos_tag(words)`: Use NLTK's `pos_tag` function to tag parts of speech for each word.\n",
        "\n",
        "6. **Return Result:**\n",
        "   - `return pos_tags`: Return the list of tuples containing words and their corresponding POS tags.\n",
        "\n",
        "7. **Example Usage:**\n",
        "   - `text = \"This is a sample sentence.\"`: Define a sample text.\n",
        "   - `parts_of_speech = identify_parts_of_speech(text)`: Call the function to identify parts of speech.\n",
        "   - `print(parts_of_speech)`: Print the identified parts of speech for each word in the sample sentence."
      ],
      "metadata": {
        "id": "94ExZ-7qPWIs"
      }
    },
    {
      "cell_type": "code",
      "execution_count": null,
      "metadata": {
        "colab": {
          "base_uri": "https://localhost:8080/"
        },
        "id": "H97MqeQGmzme",
        "outputId": "8dd072ee-40b9-4e7b-bf87-0f5a2f15ede6"
      },
      "outputs": [
        {
          "output_type": "stream",
          "name": "stdout",
          "text": [
            "[('This', 'DT'), ('is', 'VBZ'), ('a', 'DT'), ('sample', 'JJ'), ('sentence', 'NN'), ('.', '.')]\n"
          ]
        },
        {
          "output_type": "stream",
          "name": "stderr",
          "text": [
            "[nltk_data] Downloading package punkt to /root/nltk_data...\n",
            "[nltk_data]   Package punkt is already up-to-date!\n",
            "[nltk_data] Downloading package averaged_perceptron_tagger to\n",
            "[nltk_data]     /root/nltk_data...\n",
            "[nltk_data]   Package averaged_perceptron_tagger is already up-to-\n",
            "[nltk_data]       date!\n"
          ]
        }
      ],
      "source": [
        "import nltk\n",
        "from nltk.tokenize import word_tokenize\n",
        "\n",
        "# Download the NLTK data (you only need to do this once)\n",
        "nltk.download('punkt')\n",
        "nltk.download('averaged_perceptron_tagger')\n",
        "\n",
        "def identify_parts_of_speech(text):\n",
        "    # Tokenize the text into words\n",
        "    words = word_tokenize(text)\n",
        "\n",
        "    # Use the pos_tag function to tag parts of speech\n",
        "    pos_tags = nltk.pos_tag(words)\n",
        "\n",
        "    return pos_tags\n",
        "\n",
        "# Example usage\n",
        "text = \"This is a sample sentence.\"\n",
        "parts_of_speech = identify_parts_of_speech(text)\n",
        "print(parts_of_speech)\n"
      ]
    },
    {
      "cell_type": "code",
      "source": [],
      "metadata": {
        "id": "SchsHDzPnYGl"
      },
      "execution_count": null,
      "outputs": []
    }
  ]
}