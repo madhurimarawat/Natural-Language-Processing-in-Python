{
  "nbformat": 4,
  "nbformat_minor": 0,
  "metadata": {
    "colab": {
      "provenance": []
    },
    "kernelspec": {
      "name": "python3",
      "display_name": "Python 3"
    },
    "language_info": {
      "name": "python"
    }
  },
  "cells": [
    {
      "cell_type": "markdown",
      "source": [
        "# Experiment 7\n",
        "## Perform Stemming."
      ],
      "metadata": {
        "id": "rJR3yAiI-8Ot"
      }
    },
    {
      "cell_type": "markdown",
      "source": [
        "Stemming is a text normalization technique that truncates words to their base form by removing prefixes or suffixes. It's often used in Natural Language Processing (NLP) to simplify word variations. Unlike lemmatization, stemming is a less precise method, as it doesn't always produce valid words but is computationally efficient."
      ],
      "metadata": {
        "id": "pQG3T24OrURY"
      }
    },
    {
      "cell_type": "code",
      "source": [
        "# Importing Library\n",
        "import nltk\n",
        "\n",
        "# Importing Stemmer\n",
        "from nltk.stem import PorterStemmer\n",
        "\n",
        "# Importing tokenizer\n",
        "from nltk.tokenize import word_tokenize\n",
        "\n",
        "nltk.download('punkt')\n",
        "\n",
        "# Initializing Stemmer Object\n",
        "ps = PorterStemmer()\n",
        "\n",
        "# List of words\n",
        "words = ['program', 'programs', 'programmer', 'programming', 'programmers']\n",
        "\n",
        "print(\"Words after Stemming:\")\n",
        "\n",
        "# Iterating over list and conveting to lemma using Stemmer\n",
        "for word in words:\n",
        "\n",
        "    # Converting to stem\n",
        "    print(f\"{word} -> {ps.stem(word)}\")"
      ],
      "metadata": {
        "colab": {
          "base_uri": "https://localhost:8080/"
        },
        "id": "4wjUAEE3_HZM",
        "outputId": "dbfe8fc6-3b94-47db-8bb5-7c470381425f"
      },
      "execution_count": null,
      "outputs": [
        {
          "output_type": "stream",
          "name": "stdout",
          "text": [
            "Words after Stemming:\n",
            "program -> program\n",
            "programs -> program\n",
            "programmer -> programm\n",
            "programming -> program\n",
            "programmers -> programm\n"
          ]
        },
        {
          "output_type": "stream",
          "name": "stderr",
          "text": [
            "[nltk_data] Downloading package punkt to /root/nltk_data...\n",
            "[nltk_data]   Package punkt is already up-to-date!\n"
          ]
        }
      ]
    },
    {
      "cell_type": "code",
      "source": [],
      "metadata": {
        "id": "mKexHbkMCQEJ"
      },
      "execution_count": null,
      "outputs": []
    }
  ]
}