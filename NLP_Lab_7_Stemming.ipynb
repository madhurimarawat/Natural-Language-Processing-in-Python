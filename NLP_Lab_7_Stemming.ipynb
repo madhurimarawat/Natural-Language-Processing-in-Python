{
  "nbformat": 4,
  "nbformat_minor": 0,
  "metadata": {
    "colab": {
      "provenance": []
    },
    "kernelspec": {
      "name": "python3",
      "display_name": "Python 3"
    },
    "language_info": {
      "name": "python"
    }
  },
  "cells": [
    {
      "cell_type": "markdown",
      "source": [
        "# Experiment 7\n",
        "## Perform Stemming."
      ],
      "metadata": {
        "id": "rJR3yAiI-8Ot"
      }
    },
    {
      "cell_type": "markdown",
      "source": [
        "Stemming is a text normalization technique that truncates words to their base form by removing prefixes or suffixes. It's often used in Natural Language Processing (NLP) to simplify word variations. Unlike lemmatization, stemming is a less precise method, as it doesn't always produce valid words but is computationally efficient."
      ],
      "metadata": {
        "id": "pQG3T24OrURY"
      }
    },
    {
      "cell_type": "code",
      "source": [
        "# Importing Library\n",
        "import nltk\n",
        "\n",
        "# Importing Stemmer\n",
        "from nltk.stem import PorterStemmer\n",
        "\n",
        "# Importing tokenizer\n",
        "from nltk.tokenize import word_tokenize\n",
        "\n",
        "nltk.download('punkt')\n",
        "\n",
        "# Initializing Stemmer Object\n",
        "ps = PorterStemmer()\n",
        "\n",
        "# List of words\n",
        "words = ['program', 'programs', 'programmer', 'programming', 'programmers']\n",
        "\n",
        "print(\"Words after Stemming:\")\n",
        "\n",
        "# Iterating over list and conveting to lemma using Stemmer\n",
        "for word in words:\n",
        "\n",
        "    # Converting to stem\n",
        "    print(f\"{word} -> {ps.stem(word)}\")"
      ],
      "metadata": {
        "colab": {
          "base_uri": "https://localhost:8080/"
        },
        "id": "4wjUAEE3_HZM",
        "outputId": "dbfe8fc6-3b94-47db-8bb5-7c470381425f"
      },
      "execution_count": null,
      "outputs": [
        {
          "output_type": "stream",
          "name": "stdout",
          "text": [
            "Words after Stemming:\n",
            "program -> program\n",
            "programs -> program\n",
            "programmer -> programm\n",
            "programming -> program\n",
            "programmers -> programm\n"
          ]
        },
        {
          "output_type": "stream",
          "name": "stderr",
          "text": [
            "[nltk_data] Downloading package punkt to /root/nltk_data...\n",
            "[nltk_data]   Package punkt is already up-to-date!\n"
          ]
        }
      ]
    },
    {
      "cell_type": "markdown",
      "source": [
        "## Differences between Lemmatization and Stemming:\n",
        "\n",
        "### Lemmatization:\n",
        "\n",
        "- **Definition:**\n",
        "  - Lemmatization is a linguistic process that involves reducing words to their base or root form, known as the \"lemma.\"\n",
        "\n",
        "- **Goal:**\n",
        "  - The goal of lemmatization is to convert words to a common base form to capture their inherent meaning.\n",
        "\n",
        "- **Precision:**\n",
        "  - Lemmatization tends to be more precise than stemming because it considers the context of the word and its part of speech.\n",
        "\n",
        "- **Example:**\n",
        "  - *Example:* For the word \"running,\" lemmatization would return \"run.\"\n",
        "\n",
        "### Stemming:\n",
        "\n",
        "- **Definition:**\n",
        "  - Stemming is a more heuristic process that involves removing prefixes or suffixes from words to obtain a common base or root form, known as the \"stem.\"\n",
        "\n",
        "- **Goal:**\n",
        "  - The goal of stemming is to reduce words to a common form, even if the result is not a valid word.\n",
        "\n",
        "- **Simplicity:**\n",
        "  - Stemming is simpler and faster than lemmatization but may sacrifice precision.\n",
        "\n",
        "- **Example:**\n",
        "  - *Example:* For the word \"running,\" stemming might return \"run\" without considering the grammatical context.\n",
        "\n",
        "### Comparison:\n",
        "\n",
        "- **Precision vs. Speed:**\n",
        "  - Lemmatization is generally more precise but slower than stemming.\n",
        "\n",
        "- **Context Awareness:**\n",
        "  - Lemmatization considers the context and part of speech, while stemming is more rule-based and may not consider linguistic context.\n",
        "\n",
        "- **Use Cases:**\n",
        "  - Lemmatization is often preferred in applications where precise word forms are crucial (e.g., search engines, information retrieval), while stemming might be more suitable for applications where speed is a priority (e.g., information retrieval systems, text classification).\n",
        "\n",
        "In summary, lemmatization aims for precision by considering the context and part of speech, while stemming is a faster but less precise process that focuses on removing prefixes and suffixes to obtain a common base form.\n",
        "\n",
        "\n",
        "### Examples:\n",
        "\n",
        "### Lemmatization Examples:\n",
        "\n",
        "1. **Word: \"Studies\"**\n",
        "   - **Stemming Result:** \"Studi\" (may not be a valid word)\n",
        "   - **Lemmatization Result:** \"Study\"\n",
        "\n",
        "2. **Word: \"Better\"**\n",
        "   - **Stemming Result:** \"Better\" (no change as it's already in its base form)\n",
        "   - **Lemmatization Result:** \"Good\" (the base form of \"better\")\n",
        "\n",
        "3. **Word: \"Caring\"**\n",
        "   - **Stemming Result:** \"Car\"\n",
        "   - **Lemmatization Result:** \"Care\"\n",
        "\n",
        "### Stemming Examples:\n",
        "\n",
        "1. **Word: \"Happiness\"**\n",
        "   - **Stemming Result:** \"Happi\"\n",
        "   - **Lemmatization Result:** \"Happiness\" (no change as lemmatization retains valid words)\n",
        "\n",
        "2. **Word: \"Running\"**\n",
        "   - **Stemming Result:** \"Run\"\n",
        "   - **Lemmatization Result:** \"Run\" (same result in this case, but lemmatization considers context)\n",
        "\n",
        "3. **Word: \"Believable\"**\n",
        "   - **Stemming Result:** \"Believ\"\n",
        "   - **Lemmatization Result:** \"Believable\" (lemmatization retains valid words)\n",
        "\n",
        "### Additional Note:\n",
        "\n",
        "- **Context Consideration:**\n",
        "  - Lemmatization considers the context and part of speech, so it may provide more accurate results in some cases where stemming might yield an invalid or less meaningful base form.\n",
        "\n",
        "These examples demonstrate how lemmatization produces valid words and considers linguistic context, while stemming may result in non-words or less meaningful base forms."
      ],
      "metadata": {
        "id": "yAMiDH0b-NOg"
      }
    },
    {
      "cell_type": "code",
      "source": [],
      "metadata": {
        "id": "mKexHbkMCQEJ"
      },
      "execution_count": null,
      "outputs": []
    }
  ]
}