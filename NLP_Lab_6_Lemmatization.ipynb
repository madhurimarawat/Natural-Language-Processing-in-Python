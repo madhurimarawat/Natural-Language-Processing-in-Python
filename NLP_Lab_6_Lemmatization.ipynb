{
  "nbformat": 4,
  "nbformat_minor": 0,
  "metadata": {
    "colab": {
      "provenance": []
    },
    "kernelspec": {
      "name": "python3",
      "display_name": "Python 3"
    },
    "language_info": {
      "name": "python"
    }
  },
  "cells": [
    {
      "cell_type": "markdown",
      "source": [
        "# Experiment 6\n",
        "## Perform Lemmatization."
      ],
      "metadata": {
        "id": "o-zuCGDd62Jn"
      }
    },
    {
      "cell_type": "markdown",
      "source": [
        "## Lemmatization\n",
        "\n",
        "Lemmatization is a linguistic process that reduces words to their base or root form, aiding text analysis. It's crucial in Natural Language Processing (NLP), distinguishing words based on their grammatical category (e.g., nouns, verbs). Lemmatizers generate lemmata, the base forms of words, simplifying language analysis for tasks like sentiment analysis and information retrieval.\n",
        "\n",
        "## Wordnet\n",
        "\n",
        "Sure, here's the provided information converted into bullet points for Markdown:\n",
        "\n",
        "- **WordNet Overview:**\n",
        "  - WordNet is a lexical database of semantic relations between words.\n",
        "  - It links words into semantic relations, including synonyms, hyponyms, and meronyms.\n",
        "\n",
        "- **Database Contents:**\n",
        "  - It is a large lexical database of English.\n",
        "  - Nouns, verbs, adjectives, and adverbs are grouped into sets of cognitive synonyms called synsets.\n",
        "\n",
        "- **Synsets and Distinct Concepts:**\n",
        "  - Synsets express distinct concepts.\n",
        "  - Nouns, verbs, adjectives, and adverbs are organized into these synsets.\n",
        "\n",
        "- **Interlinked Relations:**\n",
        "  - Synsets are interlinked by means of conceptual-semantic and lexical relations.\n",
        "  - This interlinked structure creates a network of meaningfully related words and concepts.\n",
        "\n",
        "- **Navigation and Utility:**\n",
        "  - The resulting network of related words and concepts can be navigated using a browser.\n",
        "  - WordNet's structure makes it a valuable tool for computational linguistics and natural language processing.\n"
      ],
      "metadata": {
        "id": "gs-cOouhpOqC"
      }
    },
    {
      "cell_type": "code",
      "source": [
        "# Importing Library\n",
        "import nltk\n",
        "\n",
        "# Importing Lemmatizer\n",
        "from nltk.stem import WordNetLemmatizer\n",
        "\n",
        "# Downloading wordnet\n",
        "nltk.download('wordnet')\n",
        "\n",
        "# Initializing object of Lemmatizer\n",
        "lemmatizer = WordNetLemmatizer()\n",
        "\n",
        "# List of words\n",
        "words = ['cats', 'cat', 'study', 'studies', 'run','runs']\n",
        "\n",
        "print(\"Words after Lemmatizing:\")\n",
        "\n",
        "# Iterating over list and converting to lemma using Lemmatizer\n",
        "for word in words:\n",
        "\n",
        "    # Converting to base word/lemma\n",
        "    lemma = lemmatizer.lemmatize(word)\n",
        "    print(f\"{word} -> {lemma}\")"
      ],
      "metadata": {
        "colab": {
          "base_uri": "https://localhost:8080/"
        },
        "id": "Rh3Bji3U65s2",
        "outputId": "4ca69bb9-ecc4-4677-f4c7-a09957898643"
      },
      "execution_count": null,
      "outputs": [
        {
          "output_type": "stream",
          "name": "stdout",
          "text": [
            "Words after Lemmatizing:\n",
            "cats -> cat\n",
            "cat -> cat\n",
            "study -> study\n",
            "studies -> study\n",
            "run -> run\n",
            "runs -> run\n"
          ]
        },
        {
          "output_type": "stream",
          "name": "stderr",
          "text": [
            "[nltk_data] Downloading package wordnet to /root/nltk_data...\n",
            "[nltk_data]   Package wordnet is already up-to-date!\n"
          ]
        }
      ]
    },
    {
      "cell_type": "code",
      "source": [],
      "metadata": {
        "id": "V7MdmA2-7te7"
      },
      "execution_count": null,
      "outputs": []
    }
  ]
}